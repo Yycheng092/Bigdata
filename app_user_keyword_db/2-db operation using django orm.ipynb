{
 "cells": [
  {
   "cell_type": "code",
   "execution_count": 17,
   "id": "d42ac35f",
   "metadata": {},
   "outputs": [],
   "source": [
    "import os\n",
    "import sys\n",
    "import pandas as pd\n",
    "import argparse\n",
    "from datetime import datetime, timedelta\n",
    "import pathlib\n",
    "\n",
    "# 新增：將上一層目錄加入 sys.path\n",
    "parent_path = pathlib.Path().absolute().parent\n",
    "sys.path.insert(0, str(parent_path))\n",
    "# Setup Django environment\n",
    "os.environ.setdefault('DJANGO_SETTINGS_MODULE', 'website_configs.settings')\n",
    "import django\n",
    "django.setup()\n",
    "# 重要：設定環境變數以允許在 Jupyter 的異步環境中執行同步操作\n",
    "os.environ[\"DJANGO_ALLOW_ASYNC_UNSAFE\"] = \"true\"\n",
    "\n",
    "# Now we can import Django models\n",
    "from app_user_keyword_db.models import NewsData"
   ]
  },
  {
   "cell_type": "code",
   "execution_count": 18,
   "id": "86c1f8da",
   "metadata": {},
   "outputs": [],
   "source": [
    "from django.db.models import Q, Max, F\n",
    "from collections import Counter"
   ]
  },
  {
   "cell_type": "code",
   "execution_count": null,
   "id": "7bfcf92e",
   "metadata": {},
   "outputs": [],
   "source": []
  },
  {
   "cell_type": "code",
   "execution_count": 19,
   "id": "7477622a",
   "metadata": {},
   "outputs": [],
   "source": [
    "# Searching keywords from \"content\" column\n",
    "# This function now uses database queries instead of pandas\n",
    "def filter_database_fullText(user_keywords, cond, cate, weeks):\n",
    "    # Get the latest date in the database\n",
    "    latest_date = NewsData.objects.aggregate(max_date=Max('date'))['max_date']\n",
    "    \n",
    "    # Calculate start date\n",
    "    start_date = latest_date - timedelta(weeks=weeks)\n",
    "    \n",
    "    # Base query - filter by date range\n",
    "    queryset = NewsData.objects.filter(date__gte=start_date, date__lte=latest_date)\n",
    "    \n",
    "    # Filter by category if not \"全部\"\n",
    "    if cate != \"全部\":\n",
    "        queryset = queryset.filter(category=cate)\n",
    "    \n",
    "    # Filter by keywords based on condition (AND or OR)\n",
    "    if cond == 'and':\n",
    "        # For AND condition, we need all keywords to be present\n",
    "        for kw in user_keywords:\n",
    "            queryset = queryset.filter(content__contains=kw)\n",
    "    elif cond == 'or':\n",
    "        # For OR condition, any keyword can be present\n",
    "        q_objects = Q()\n",
    "        for kw in user_keywords:\n",
    "            q_objects |= Q(content__contains=kw)\n",
    "        queryset = queryset.filter(q_objects)\n",
    "    \n",
    "    return queryset"
   ]
  },
  {
   "cell_type": "code",
   "execution_count": 20,
   "id": "f2c64d20",
   "metadata": {},
   "outputs": [],
   "source": [
    "\n",
    "user_keywords = ['川普', '大谷翔平']  # Example keywords\n",
    "cond = 'and'  # Example condition (and/or), \n",
    "cate = '全部'  # Example category (or \"全部\" for all categories)\n",
    "weeks = 4  # Example weeks\n",
    "queryset = filter_database_fullText(user_keywords, cond, cate, weeks)"
   ]
  },
  {
   "cell_type": "code",
   "execution_count": 21,
   "id": "7461b02c",
   "metadata": {},
   "outputs": [
    {
     "name": "stdout",
     "output_type": "stream",
     "text": [
      "挑戰完全打擊卻選到保送　道奇總仔讚大谷翔平：以團隊為重\n",
      "錯過7億鎂大谷　藍鳥搬出史上第三大合約綁住小葛雷諾\n",
      "道奇進白宮會見川普 大谷翔平與美國獨立宣言合照\n",
      "MLB》川普在白宮表揚道奇 握手稱讚大谷翔平「宛如電影明星」\n",
      "大谷翔平開轟差一點完全打擊！宇宙道奇本季首度二連敗\n"
     ]
    }
   ],
   "source": [
    "for news in queryset:\n",
    "    print(news.title)"
   ]
  },
  {
   "cell_type": "code",
   "execution_count": 22,
   "id": "4e276c32",
   "metadata": {},
   "outputs": [],
   "source": [
    "# Limit to k results and get specific fields\n",
    "news_items = queryset.values('category', 'title', 'link', 'photo_link')[:3]"
   ]
  },
  {
   "cell_type": "code",
   "execution_count": 23,
   "id": "16648dab",
   "metadata": {},
   "outputs": [
    {
     "data": {
      "text/plain": [
       "<QuerySet [{'category': '運動', 'title': '挑戰完全打擊卻選到保送\\u3000道奇總仔讚大谷翔平：以團隊為重', 'link': 'https://tw.news.yahoo.com/%E6%8C%91%E6%88%B0%E5%AE%8C%E5%85%A8%E6%89%93%E6%93%8A%E5%8D%BB%E9%81%B8%E5%88%B0%E4%BF%9D%E9%80%81-%E9%81%93%E5%A5%87%E7%B8%BD%E4%BB%94%E8%AE%9A%E5%A4%A7%E8%B0%B7%E7%BF%94%E5%B9%B3-%E4%BB%A5%E5%9C%98%E9%9A%8A%E7%82%BA%E9%87%8D-043253712.html', 'photo_link': 'https://s.yimg.com/ny/api/res/1.2/jdKWh.T4GM3o0mACXry5qA--/YXBwaWQ9aGlnaGxhbmRlcjt3PTEyMDA7aD04MDA-/https://media.zenfs.com/en/gotv_ctitv_com_tw_678/cbfe92b7af5e52edb77183ef96d447b0'}, {'category': '運動', 'title': '錯過7億鎂大谷\\u3000藍鳥搬出史上第三大合約綁住小葛雷諾', 'link': 'https://tw.news.yahoo.com/%E9%8C%AF%E9%81%8E7%E5%84%84%E9%8E%82%E5%A4%A7%E8%B0%B7-%E8%97%8D%E9%B3%A5%E6%90%AC%E5%87%BA%E5%8F%B2%E4%B8%8A%E7%AC%AC%E4%B8%89%E5%A4%A7%E5%90%88%E7%B4%84%E7%B6%81%E4%BD%8F%E5%B0%8F%E8%91%9B%E9%9B%B7%E8%AB%BE-061836382.html', 'photo_link': 'https://media.zenfs.com/en/taisounds_com_380/5af69b48d3a41d91f5b2d6fc9fd45a05'}, {'category': '運動', 'title': '道奇進白宮會見川普 大谷翔平與美國獨立宣言合照', 'link': 'https://tw.news.yahoo.com/%E9%81%93%E5%A5%87%E9%80%B2%E7%99%BD%E5%AE%AE%E6%9C%83%E8%A6%8B%E5%B7%9D%E6%99%AE-%E5%A4%A7%E8%B0%B7%E7%BF%94%E5%B9%B3%E8%88%87%E7%BE%8E%E5%9C%8B%E7%8D%A8%E7%AB%8B%E5%AE%A3%E8%A8%80%E5%90%88%E7%85%A7-235930933.html', 'photo_link': 'https://s.yimg.com/ny/api/res/1.2/7NHuF2CMkU140M5UcgpXow--/YXBwaWQ9aGlnaGxhbmRlcjt3PTEyMDA7aD03OTk-/https://s.yimg.com/os/creatr-uploaded-images/2025-04/7c5ad5e0-1412-11f0-8c17-fdc81a56b951'}]>"
      ]
     },
     "execution_count": 23,
     "metadata": {},
     "output_type": "execute_result"
    }
   ],
   "source": [
    "news_items"
   ]
  },
  {
   "cell_type": "code",
   "execution_count": 24,
   "id": "cb2d9d28",
   "metadata": {},
   "outputs": [],
   "source": [
    "dates = list(queryset.values_list('date', flat=True))"
   ]
  },
  {
   "cell_type": "code",
   "execution_count": null,
   "id": "bea8f33c",
   "metadata": {},
   "outputs": [],
   "source": []
  }
 ],
 "metadata": {
  "kernelspec": {
   "display_name": "Bigdata_implementation",
   "language": "python",
   "name": "python3"
  },
  "language_info": {
   "codemirror_mode": {
    "name": "ipython",
    "version": 3
   },
   "file_extension": ".py",
   "mimetype": "text/x-python",
   "name": "python",
   "nbconvert_exporter": "python",
   "pygments_lexer": "ipython3",
   "version": "3.12.3"
  }
 },
 "nbformat": 4,
 "nbformat_minor": 5
}
